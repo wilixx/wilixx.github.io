{
 "cells": [
  {
   "cell_type": "markdown",
   "metadata": {},
   "source": [
    "# Note Title: To Make Your Code Efficient And Short!\n",
    "Allen Guo ( Dec, 13th, 2019 )"
   ]
  },
  {
   "cell_type": "markdown",
   "metadata": {},
   "source": [
    "In this note we will give an example of how to shorten your code.\n",
    "Outline of this chapter:\n",
    "* Part-1: The Background\n",
    "* Part-2: Bad Code\n",
    "* Part-3: Shorter Version 1\n",
    "* Part-4: Shorter Version 2\n",
    "* Part-5: To Be Shorter And Shorter"
   ]
  },
  {
   "cell_type": "markdown",
   "metadata": {},
   "source": [
    "# Part-1: The Background"
   ]
  },
  {
   "cell_type": "markdown",
   "metadata": {},
   "source": [
    "Imagine that during research, we need to propose an additional function so as to get things better. The function forms as: \n",
    "\n",
    "                          output = f(input,param=\"x\"), where x<-[\"d\",\"p\",\"t\"]\n",
    "\n",
    "which takes the input, randomly choose a \"x\" from list [\"d\",\"p\",\"t\"], and calculates the output. Let's see the code below."
   ]
  },
  {
   "cell_type": "markdown",
   "metadata": {},
   "source": [
    "# Part-2: Bad Code"
   ]
  },
  {
   "cell_type": "code",
   "execution_count": 8,
   "metadata": {},
   "outputs": [
    {
     "name": "stdout",
     "output_type": "stream",
     "text": [
      "result= ['d', 'p', 't', 'p', 't', 'p', 't', 'p', 'd', 't', 't', 't', 't', 't', 't', 'd', 't', 't', 'd', 'd']\n",
      "result= ['p', 't', 'd', 'd', 't', 'd', 'd', 'd', 'd', 'd', 't', 'p', 'p', 'p', 'd', 't', 't', 'p', 'd', 'p']\n"
     ]
    }
   ],
   "source": [
    "import random\n",
    "\n",
    "def func_randomly(input):\n",
    "    sim_type_list = [\"d\",\"p\",\"t\"]\n",
    "    random_num = random.randint(0,3-1)\n",
    "    result_parameter = sim_type_list[random_num]\n",
    "    \n",
    "    def calculate_(input,result_parameter):\n",
    "        return (input,result_parameter)\n",
    "    \n",
    "    result = calculate_(input,result_parameter)    \n",
    "    return  result\n",
    "\n",
    "def func_randomly_shorter(batch_item):\n",
    "    def calculate_(input,result_parameter):\n",
    "        return (input,result_parameter)\n",
    "    \n",
    "    return  calculate_(input,[\"d\",\"p\",\"t\"][random.randint(0,3-1)])\n",
    "\n",
    "\n",
    "def test_1(func_name,num):\n",
    "    result = [func_name(None)[1] for i in range(num)]\n",
    "    print(\"result=\",result)\n",
    "    \n",
    "\n",
    "test_1(func_randomly,20)\n",
    "test_1(func_randomly_shorter,20)"
   ]
  },
  {
   "cell_type": "markdown",
   "metadata": {},
   "source": [
    "# Part-3: Shorter Version 1"
   ]
  },
  {
   "cell_type": "code",
   "execution_count": 10,
   "metadata": {},
   "outputs": [
    {
     "name": "stdout",
     "output_type": "stream",
     "text": [
      "result= ['p', 'p', 't', 'p', 't', 't', 't', 't', 'd', 'p', 'p', 'p', 't', 'd', 'd', 't', 'd', 't', 'd', 'd']\n",
      "result= ['p', 'p', 't', 'd', 't', 'p', 'p', 'p', 'd', 'd', 'd', 't', 'd', 't', 'p', 't', 'd', 't', 't', 'p']\n"
     ]
    }
   ],
   "source": [
    "import random\n",
    "\n",
    "def func_randomly(input):\n",
    "    sim_type_list = [\"d\",\"p\",\"t\"]\n",
    "    random_num = random.randint(0,3-1)\n",
    "    result_parameter = sim_type_list[random_num]\n",
    "    \n",
    "    def calculate_(input,result_parameter):\n",
    "        return (input,result_parameter)\n",
    "    \n",
    "    result = calculate_(input,result_parameter)    \n",
    "    return  result\n",
    "\n",
    "def func_randomly_shorter(batch_item):\n",
    "    def calculate_(input,result_parameter):\n",
    "        return (input,result_parameter)\n",
    "    \n",
    "    return  calculate_(input,[\"d\",\"p\",\"t\"][random.randint(0,3-1)])\n",
    "\n",
    "\n",
    "def test_1(func_name,num):\n",
    "    result = [func_name(None)[1] for i in range(num)]\n",
    "    print(\"result=\",result)\n",
    "    \n",
    "\n",
    "test_1(func_randomly,20)\n",
    "test_1(func_randomly_shorter,20)"
   ]
  },
  {
   "cell_type": "code",
   "execution_count": null,
   "metadata": {},
   "outputs": [],
   "source": []
  },
  {
   "cell_type": "markdown",
   "metadata": {},
   "source": [
    "# Part-4: Short Code Version 2"
   ]
  },
  {
   "cell_type": "code",
   "execution_count": 16,
   "metadata": {},
   "outputs": [
    {
     "name": "stdout",
     "output_type": "stream",
     "text": [
      "result= ['d', 'p', 'p', 'd', 't', 'p', 'd', 'p', 'p', 'p', 'd', 'p', 't', 'p', 't', 't', 'd', 't', 't', 'p']\n",
      "result= ['t', 'd', 'p', 'd', 'p', 'd', 'd', 'p', 'd', 'd', 'd', 'p', 'p', 't', 't', 'd', 't', 'd', 'p', 't']\n"
     ]
    }
   ],
   "source": [
    "import random\n",
    "\n",
    "def func_randomly_shorter(batch_item):\n",
    "    calculate_ = lambda input,result_parameter:(input,result_parameter)\n",
    "    return  calculate_(input,[\"d\",\"p\",\"t\"][random.randint(0,3-1)])\n",
    "\n",
    "def test_1(func_name,num):\n",
    "    print(\"result=\",[func_name(None)[1] for i in range(num)])\n",
    "    \n",
    "test_1(func_randomly,20)\n",
    "test_1(func_randomly_shorter,20)"
   ]
  },
  {
   "cell_type": "markdown",
   "metadata": {},
   "source": [
    "# Part-5: To Be Shorter And Shorter"
   ]
  },
  {
   "cell_type": "code",
   "execution_count": 15,
   "metadata": {},
   "outputs": [
    {
     "name": "stdout",
     "output_type": "stream",
     "text": [
      "result= ['d', 't', 't', 'p', 'p', 't', 'd', 't', 'p', 't', 'd', 'p', 'd', 't', 'd', 't', 'p', 'p', 't', 'd']\n",
      "result= ['t', 'd', 'p', 't', 't', 'd', 'p', 't', 'd', 't', 'p', 'd', 't', 'd', 'p', 't', 't', 'd', 't', 'd']\n"
     ]
    }
   ],
   "source": [
    "import random\n",
    "\n",
    "def func_randomly_shorter(batch_item):\n",
    "    return  (input,[\"d\",\"p\",\"t\"][random.randint(0,3-1)])\n",
    "\n",
    "def test_1(func_name,num):\n",
    "    print(\"result=\",[func_name(None)[1] for i in range(num)])\n",
    "    \n",
    "test_1(func_randomly,20)\n",
    "test_1(func_randomly_shorter,20)"
   ]
  },
  {
   "cell_type": "code",
   "execution_count": null,
   "metadata": {},
   "outputs": [],
   "source": [
    "Part-1: "
   ]
  },
  {
   "cell_type": "markdown",
   "metadata": {},
   "source": [
    "This repo contains an introduction to [Jupyter](https://jupyter.org) and [IPython](https://ipython.org).\n",
    "\n",
    "Outline of some basics:\n",
    "\n",
    "* [Notebook Basics](../examples/Notebook/Notebook%20Basics.ipynb)\n",
    "* [IPython - beyond plain python](../examples/IPython%20Kernel/Beyond%20Plain%20Python.ipynb)\n",
    "* [Markdown Cells](../examples/Notebook/Working%20With%20Markdown%20Cells.ipynb)\n",
    "* [Rich Display System](../examples/IPython%20Kernel/Rich%20Output.ipynb)\n",
    "* [Custom Display logic](../examples/IPython%20Kernel/Custom%20Display%20Logic.ipynb)\n",
    "* [Running a Secure Public Notebook Server](../examples/Notebook/Running%20the%20Notebook%20Server.ipynb#Securing-the-notebook-server)\n",
    "* [How Jupyter works](../examples/Notebook/Multiple%20Languages%2C%20Frontends.ipynb) to run code in different languages."
   ]
  },
  {
   "cell_type": "markdown",
   "metadata": {},
   "source": [
    "You can also get this tutorial and run it on your laptop:\n",
    "\n",
    "    git clone https://github.com/ipython/ipython-in-depth\n",
    "\n",
    "Install IPython and Jupyter:\n",
    "\n",
    "with [conda](https://www.anaconda.com/download):\n",
    "\n",
    "    conda install ipython jupyter\n",
    "\n",
    "with pip:\n",
    "\n",
    "    # first, always upgrade pip!\n",
    "    pip install --upgrade pip\n",
    "    pip install --upgrade ipython jupyter\n",
    "\n",
    "Start the notebook in the tutorial directory:\n",
    "\n",
    "    cd ipython-in-depth\n",
    "    jupyter notebook"
   ]
  },
  {
   "cell_type": "code",
   "execution_count": null,
   "metadata": {},
   "outputs": [],
   "source": []
  },
  {
   "cell_type": "code",
   "execution_count": null,
   "metadata": {},
   "outputs": [],
   "source": []
  },
  {
   "cell_type": "code",
   "execution_count": null,
   "metadata": {},
   "outputs": [],
   "source": []
  },
  {
   "cell_type": "markdown",
   "metadata": {},
   "source": []
  },
  {
   "cell_type": "code",
   "execution_count": null,
   "metadata": {},
   "outputs": [],
   "source": []
  }
 ],
 "metadata": {
  "kernelspec": {
   "display_name": "Python 3",
   "language": "python",
   "name": "python3"
  },
  "language_info": {
   "codemirror_mode": {
    "name": "ipython",
    "version": 3
   },
   "file_extension": ".py",
   "mimetype": "text/x-python",
   "name": "python",
   "nbconvert_exporter": "python",
   "pygments_lexer": "ipython3",
   "version": "3.6.9"
  }
 },
 "nbformat": 4,
 "nbformat_minor": 2
}
